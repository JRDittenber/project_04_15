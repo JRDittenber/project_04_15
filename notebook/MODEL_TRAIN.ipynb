{
 "cells": [
  {
   "cell_type": "code",
   "execution_count": 1,
   "metadata": {},
   "outputs": [],
   "source": [
    "import os \n",
    "import numpy as np \n",
    "import pandas as pd \n",
    "import seaborn as sns \n",
    "import matplotlib.pyplot as plt \n",
    "%matplotlib inline \n",
    "import warnings \n",
    "warnings.filterwarnings('ignore')\n",
    "#Modeling \n",
    "from sklearn.metrics import mean_squared_error, r2_score\n",
    "from sklearn.linear_model import LinearRegression, Lasso, Ridge\n",
    "from sklearn.neighbors import KNeighborsRegressor\n",
    "from sklearn.tree import DecisionTreeRegressor\n",
    "from sklearn.ensemble import RandomForestRegressor, AdaBoostRegressor\n",
    "from sklearn.svm import SVR \n",
    "from sklearn.metrics import r2_score, mean_absolute_error, mean_squared_error\n",
    "from sklearn.model_selection import RandomizedSearchCV, train_test_split\n",
    "from catboost import CatBoostRegressor \n",
    "from xgboost import XGBRegressor \n",
    "import warnings \n",
    "\n"
   ]
  },
  {
   "attachments": {},
   "cell_type": "markdown",
   "metadata": {},
   "source": [
    "# Model Training "
   ]
  },
  {
   "cell_type": "code",
   "execution_count": 2,
   "metadata": {},
   "outputs": [],
   "source": [
    "df = pd.read_csv('data/cleaned_data.csv')"
   ]
  },
  {
   "cell_type": "code",
   "execution_count": 3,
   "metadata": {},
   "outputs": [
    {
     "data": {
      "text/html": [
       "<div>\n",
       "<style scoped>\n",
       "    .dataframe tbody tr th:only-of-type {\n",
       "        vertical-align: middle;\n",
       "    }\n",
       "\n",
       "    .dataframe tbody tr th {\n",
       "        vertical-align: top;\n",
       "    }\n",
       "\n",
       "    .dataframe thead th {\n",
       "        text-align: right;\n",
       "    }\n",
       "</style>\n",
       "<table border=\"1\" class=\"dataframe\">\n",
       "  <thead>\n",
       "    <tr style=\"text-align: right;\">\n",
       "      <th></th>\n",
       "      <th>gender</th>\n",
       "      <th>race_ethnicity</th>\n",
       "      <th>parental_level_of_education</th>\n",
       "      <th>lunch</th>\n",
       "      <th>test_preparation_course</th>\n",
       "      <th>math_score</th>\n",
       "      <th>reading_score</th>\n",
       "      <th>writing_score</th>\n",
       "      <th>total_score</th>\n",
       "      <th>average</th>\n",
       "    </tr>\n",
       "  </thead>\n",
       "  <tbody>\n",
       "    <tr>\n",
       "      <th>0</th>\n",
       "      <td>female</td>\n",
       "      <td>group_B</td>\n",
       "      <td>bachelors_degree</td>\n",
       "      <td>standard</td>\n",
       "      <td>none</td>\n",
       "      <td>72</td>\n",
       "      <td>72</td>\n",
       "      <td>74</td>\n",
       "      <td>218</td>\n",
       "      <td>72.67</td>\n",
       "    </tr>\n",
       "    <tr>\n",
       "      <th>1</th>\n",
       "      <td>female</td>\n",
       "      <td>group_C</td>\n",
       "      <td>some_college</td>\n",
       "      <td>standard</td>\n",
       "      <td>completed</td>\n",
       "      <td>69</td>\n",
       "      <td>90</td>\n",
       "      <td>88</td>\n",
       "      <td>247</td>\n",
       "      <td>82.33</td>\n",
       "    </tr>\n",
       "    <tr>\n",
       "      <th>2</th>\n",
       "      <td>female</td>\n",
       "      <td>group_B</td>\n",
       "      <td>masters_degree</td>\n",
       "      <td>standard</td>\n",
       "      <td>none</td>\n",
       "      <td>90</td>\n",
       "      <td>95</td>\n",
       "      <td>93</td>\n",
       "      <td>278</td>\n",
       "      <td>92.67</td>\n",
       "    </tr>\n",
       "    <tr>\n",
       "      <th>3</th>\n",
       "      <td>male</td>\n",
       "      <td>group_A</td>\n",
       "      <td>associates_degree</td>\n",
       "      <td>free_reduced</td>\n",
       "      <td>none</td>\n",
       "      <td>47</td>\n",
       "      <td>57</td>\n",
       "      <td>44</td>\n",
       "      <td>148</td>\n",
       "      <td>49.33</td>\n",
       "    </tr>\n",
       "    <tr>\n",
       "      <th>4</th>\n",
       "      <td>male</td>\n",
       "      <td>group_C</td>\n",
       "      <td>some_college</td>\n",
       "      <td>standard</td>\n",
       "      <td>none</td>\n",
       "      <td>76</td>\n",
       "      <td>78</td>\n",
       "      <td>75</td>\n",
       "      <td>229</td>\n",
       "      <td>76.33</td>\n",
       "    </tr>\n",
       "  </tbody>\n",
       "</table>\n",
       "</div>"
      ],
      "text/plain": [
       "   gender race_ethnicity parental_level_of_education         lunch   \n",
       "0  female        group_B            bachelors_degree      standard  \\\n",
       "1  female        group_C                some_college      standard   \n",
       "2  female        group_B              masters_degree      standard   \n",
       "3    male        group_A           associates_degree  free_reduced   \n",
       "4    male        group_C                some_college      standard   \n",
       "\n",
       "  test_preparation_course  math_score  reading_score  writing_score   \n",
       "0                    none          72             72             74  \\\n",
       "1               completed          69             90             88   \n",
       "2                    none          90             95             93   \n",
       "3                    none          47             57             44   \n",
       "4                    none          76             78             75   \n",
       "\n",
       "   total_score  average  \n",
       "0          218    72.67  \n",
       "1          247    82.33  \n",
       "2          278    92.67  \n",
       "3          148    49.33  \n",
       "4          229    76.33  "
      ]
     },
     "execution_count": 3,
     "metadata": {},
     "output_type": "execute_result"
    }
   ],
   "source": [
    "df.head()"
   ]
  },
  {
   "cell_type": "code",
   "execution_count": 4,
   "metadata": {},
   "outputs": [
    {
     "name": "stdout",
     "output_type": "stream",
     "text": [
      "Categories in 'gender' variable:      ['female' 'male']\n",
      "Categories in 'race_ethnicity' variable:   ['group_B' 'group_C' 'group_A' 'group_D' 'group_E']\n",
      "Categories in'parental level of education' variable: ['bachelors_degree' 'some_college' 'masters_degree' 'associates_degree'\n",
      " 'high_school' 'some_high_school']\n",
      "Categories in 'lunch' variable:      ['standard' 'free_reduced']\n",
      "Categories in 'test preparation course' variable:      ['none' 'completed']\n"
     ]
    }
   ],
   "source": [
    "print(\"Categories in 'gender' variable:     \",end=\" \" )\n",
    "print(df['gender'].unique())\n",
    "\n",
    "print(\"Categories in 'race_ethnicity' variable:  \",end=\" \")\n",
    "print(df['race_ethnicity'].unique())\n",
    "\n",
    "print(\"Categories in'parental level of education' variable:\",end=\" \" )\n",
    "print(df['parental_level_of_education'].unique())\n",
    "\n",
    "print(\"Categories in 'lunch' variable:     \",end=\" \" )\n",
    "print(df['lunch'].unique())\n",
    "\n",
    "print(\"Categories in 'test preparation course' variable:     \",end=\" \" )\n",
    "print(df['test_preparation_course'].unique())"
   ]
  },
  {
   "attachments": {},
   "cell_type": "markdown",
   "metadata": {},
   "source": [
    "# Separate Features and Target"
   ]
  },
  {
   "cell_type": "code",
   "execution_count": 5,
   "metadata": {},
   "outputs": [],
   "source": [
    "X = df.drop(columns=['average', 'total_score', 'math_score'], axis= 1)"
   ]
  },
  {
   "cell_type": "code",
   "execution_count": 6,
   "metadata": {},
   "outputs": [],
   "source": [
    "y = df['math_score']"
   ]
  },
  {
   "cell_type": "code",
   "execution_count": 7,
   "metadata": {},
   "outputs": [
    {
     "data": {
      "text/html": [
       "<div>\n",
       "<style scoped>\n",
       "    .dataframe tbody tr th:only-of-type {\n",
       "        vertical-align: middle;\n",
       "    }\n",
       "\n",
       "    .dataframe tbody tr th {\n",
       "        vertical-align: top;\n",
       "    }\n",
       "\n",
       "    .dataframe thead th {\n",
       "        text-align: right;\n",
       "    }\n",
       "</style>\n",
       "<table border=\"1\" class=\"dataframe\">\n",
       "  <thead>\n",
       "    <tr style=\"text-align: right;\">\n",
       "      <th></th>\n",
       "      <th>gender</th>\n",
       "      <th>race_ethnicity</th>\n",
       "      <th>parental_level_of_education</th>\n",
       "      <th>lunch</th>\n",
       "      <th>test_preparation_course</th>\n",
       "      <th>reading_score</th>\n",
       "      <th>writing_score</th>\n",
       "    </tr>\n",
       "  </thead>\n",
       "  <tbody>\n",
       "    <tr>\n",
       "      <th>0</th>\n",
       "      <td>female</td>\n",
       "      <td>group_B</td>\n",
       "      <td>bachelors_degree</td>\n",
       "      <td>standard</td>\n",
       "      <td>none</td>\n",
       "      <td>72</td>\n",
       "      <td>74</td>\n",
       "    </tr>\n",
       "    <tr>\n",
       "      <th>1</th>\n",
       "      <td>female</td>\n",
       "      <td>group_C</td>\n",
       "      <td>some_college</td>\n",
       "      <td>standard</td>\n",
       "      <td>completed</td>\n",
       "      <td>90</td>\n",
       "      <td>88</td>\n",
       "    </tr>\n",
       "    <tr>\n",
       "      <th>2</th>\n",
       "      <td>female</td>\n",
       "      <td>group_B</td>\n",
       "      <td>masters_degree</td>\n",
       "      <td>standard</td>\n",
       "      <td>none</td>\n",
       "      <td>95</td>\n",
       "      <td>93</td>\n",
       "    </tr>\n",
       "    <tr>\n",
       "      <th>3</th>\n",
       "      <td>male</td>\n",
       "      <td>group_A</td>\n",
       "      <td>associates_degree</td>\n",
       "      <td>free_reduced</td>\n",
       "      <td>none</td>\n",
       "      <td>57</td>\n",
       "      <td>44</td>\n",
       "    </tr>\n",
       "    <tr>\n",
       "      <th>4</th>\n",
       "      <td>male</td>\n",
       "      <td>group_C</td>\n",
       "      <td>some_college</td>\n",
       "      <td>standard</td>\n",
       "      <td>none</td>\n",
       "      <td>78</td>\n",
       "      <td>75</td>\n",
       "    </tr>\n",
       "  </tbody>\n",
       "</table>\n",
       "</div>"
      ],
      "text/plain": [
       "   gender race_ethnicity parental_level_of_education         lunch   \n",
       "0  female        group_B            bachelors_degree      standard  \\\n",
       "1  female        group_C                some_college      standard   \n",
       "2  female        group_B              masters_degree      standard   \n",
       "3    male        group_A           associates_degree  free_reduced   \n",
       "4    male        group_C                some_college      standard   \n",
       "\n",
       "  test_preparation_course  reading_score  writing_score  \n",
       "0                    none             72             74  \n",
       "1               completed             90             88  \n",
       "2                    none             95             93  \n",
       "3                    none             57             44  \n",
       "4                    none             78             75  "
      ]
     },
     "execution_count": 7,
     "metadata": {},
     "output_type": "execute_result"
    }
   ],
   "source": [
    "X.head()"
   ]
  },
  {
   "cell_type": "code",
   "execution_count": 8,
   "metadata": {},
   "outputs": [
    {
     "data": {
      "text/plain": [
       "0    72\n",
       "1    69\n",
       "2    90\n",
       "3    47\n",
       "4    76\n",
       "Name: math_score, dtype: int64"
      ]
     },
     "execution_count": 8,
     "metadata": {},
     "output_type": "execute_result"
    }
   ],
   "source": [
    "y.head()"
   ]
  },
  {
   "attachments": {},
   "cell_type": "markdown",
   "metadata": {},
   "source": [
    "# Create Column Transformer with 3 types of Transformers "
   ]
  },
  {
   "cell_type": "code",
   "execution_count": 9,
   "metadata": {},
   "outputs": [],
   "source": [
    "num_features = X.select_dtypes(exclude='object').columns\n",
    "cat_features = X.select_dtypes(include='object').columns\n",
    "\n",
    "from sklearn.preprocessing import OneHotEncoder, StandardScaler\n",
    "from sklearn.compose import ColumnTransformer\n",
    "\n",
    "numeric_transformer = StandardScaler() \n",
    "oh_transformer = OneHotEncoder() \n",
    "\n",
    "preprocessor = ColumnTransformer(\n",
    "    [\n",
    "        (\"OneHotEncoder\", oh_transformer, cat_features), \n",
    "        (\"StandardScaler\", numeric_transformer, num_features),\n",
    "        \n",
    "    ]\n",
    "           \n",
    ")"
   ]
  },
  {
   "cell_type": "code",
   "execution_count": 10,
   "metadata": {},
   "outputs": [],
   "source": [
    "X = preprocessor.fit_transform(X)"
   ]
  },
  {
   "attachments": {},
   "cell_type": "markdown",
   "metadata": {},
   "source": [
    "## Train and Test Split "
   ]
  },
  {
   "cell_type": "code",
   "execution_count": 11,
   "metadata": {},
   "outputs": [
    {
     "data": {
      "text/plain": [
       "((800, 19), (200, 19))"
      ]
     },
     "execution_count": 11,
     "metadata": {},
     "output_type": "execute_result"
    }
   ],
   "source": [
    "X_train, X_test, y_train, y_test  = train_test_split(X,y, test_size=0.2, random_state = 37)\n",
    "X_train.shape, X_test.shape"
   ]
  },
  {
   "attachments": {},
   "cell_type": "markdown",
   "metadata": {},
   "source": [
    "# Model Performance Metrics "
   ]
  },
  {
   "cell_type": "code",
   "execution_count": 12,
   "metadata": {},
   "outputs": [],
   "source": [
    "def evaluate_model(true, predicted):\n",
    "    mae = round(mean_absolute_error(true, predicted),5),\n",
    "    mse = round(mean_squared_error(true, predicted), 5)\n",
    "    rmse = round(np.sqrt(mean_squared_error(true, predicted)),5)\n",
    "    r2_square = round(r2_score(true, predicted),5)\n",
    "    return mae, rmse, r2_square "
   ]
  },
  {
   "cell_type": "markdown",
   "metadata": {},
   "source": [
    "# Models "
   ]
  },
  {
   "cell_type": "code",
   "execution_count": 13,
   "metadata": {},
   "outputs": [
    {
     "data": {
      "text/html": [
       "<div>\n",
       "<style scoped>\n",
       "    .dataframe tbody tr th:only-of-type {\n",
       "        vertical-align: middle;\n",
       "    }\n",
       "\n",
       "    .dataframe tbody tr th {\n",
       "        vertical-align: top;\n",
       "    }\n",
       "\n",
       "    .dataframe thead th {\n",
       "        text-align: right;\n",
       "    }\n",
       "</style>\n",
       "<table border=\"1\" class=\"dataframe\">\n",
       "  <thead>\n",
       "    <tr style=\"text-align: right;\">\n",
       "      <th></th>\n",
       "      <th>Model</th>\n",
       "      <th>Train RMSE</th>\n",
       "      <th>Test RMSE</th>\n",
       "      <th>Train MAE</th>\n",
       "      <th>Test MAE</th>\n",
       "      <th>Train R2</th>\n",
       "      <th>Test R2</th>\n",
       "      <th>RMSE Difference</th>\n",
       "    </tr>\n",
       "  </thead>\n",
       "  <tbody>\n",
       "    <tr>\n",
       "      <th>8</th>\n",
       "      <td>AdaBoost Regressor</td>\n",
       "      <td>5.86376</td>\n",
       "      <td>6.05185</td>\n",
       "      <td>(4.78831,)</td>\n",
       "      <td>(4.69021,)</td>\n",
       "      <td>0.84694</td>\n",
       "      <td>0.85244</td>\n",
       "      <td>0.18809</td>\n",
       "    </tr>\n",
       "    <tr>\n",
       "      <th>2</th>\n",
       "      <td>Ridge</td>\n",
       "      <td>5.38173</td>\n",
       "      <td>5.14395</td>\n",
       "      <td>(4.28579,)</td>\n",
       "      <td>(4.1297,)</td>\n",
       "      <td>0.87107</td>\n",
       "      <td>0.89339</td>\n",
       "      <td>0.23778</td>\n",
       "    </tr>\n",
       "    <tr>\n",
       "      <th>0</th>\n",
       "      <td>Linear Regression</td>\n",
       "      <td>5.40623</td>\n",
       "      <td>5.12662</td>\n",
       "      <td>(4.29938,)</td>\n",
       "      <td>(4.14062,)</td>\n",
       "      <td>0.86990</td>\n",
       "      <td>0.89411</td>\n",
       "      <td>0.27961</td>\n",
       "    </tr>\n",
       "    <tr>\n",
       "      <th>1</th>\n",
       "      <td>Lasso</td>\n",
       "      <td>6.62745</td>\n",
       "      <td>6.28612</td>\n",
       "      <td>(5.21998,)</td>\n",
       "      <td>(4.98992,)</td>\n",
       "      <td>0.80448</td>\n",
       "      <td>0.84079</td>\n",
       "      <td>0.34133</td>\n",
       "    </tr>\n",
       "    <tr>\n",
       "      <th>3</th>\n",
       "      <td>K-Neighbors Regressor</td>\n",
       "      <td>5.93630</td>\n",
       "      <td>6.74805</td>\n",
       "      <td>(4.74725,)</td>\n",
       "      <td>(5.315,)</td>\n",
       "      <td>0.84313</td>\n",
       "      <td>0.81654</td>\n",
       "      <td>0.81175</td>\n",
       "    </tr>\n",
       "    <tr>\n",
       "      <th>7</th>\n",
       "      <td>CatBoosting Regressor</td>\n",
       "      <td>2.98539</td>\n",
       "      <td>5.60938</td>\n",
       "      <td>(2.32538,)</td>\n",
       "      <td>(4.5098,)</td>\n",
       "      <td>0.96033</td>\n",
       "      <td>0.87323</td>\n",
       "      <td>2.62399</td>\n",
       "    </tr>\n",
       "    <tr>\n",
       "      <th>5</th>\n",
       "      <td>Random Forest Regressor</td>\n",
       "      <td>2.29988</td>\n",
       "      <td>6.11858</td>\n",
       "      <td>(1.80506,)</td>\n",
       "      <td>(4.91913,)</td>\n",
       "      <td>0.97645</td>\n",
       "      <td>0.84917</td>\n",
       "      <td>3.81870</td>\n",
       "    </tr>\n",
       "    <tr>\n",
       "      <th>6</th>\n",
       "      <td>XGBRegressor</td>\n",
       "      <td>0.94571</td>\n",
       "      <td>6.39903</td>\n",
       "      <td>(0.62452,)</td>\n",
       "      <td>(5.18246,)</td>\n",
       "      <td>0.99602</td>\n",
       "      <td>0.83502</td>\n",
       "      <td>5.45332</td>\n",
       "    </tr>\n",
       "    <tr>\n",
       "      <th>4</th>\n",
       "      <td>Decision Tree</td>\n",
       "      <td>0.35000</td>\n",
       "      <td>8.42852</td>\n",
       "      <td>(0.0175,)</td>\n",
       "      <td>(6.67,)</td>\n",
       "      <td>0.99945</td>\n",
       "      <td>0.71378</td>\n",
       "      <td>8.07852</td>\n",
       "    </tr>\n",
       "  </tbody>\n",
       "</table>\n",
       "</div>"
      ],
      "text/plain": [
       "                     Model  Train RMSE  Test RMSE   Train MAE    Test MAE   \n",
       "8       AdaBoost Regressor     5.86376    6.05185  (4.78831,)  (4.69021,)  \\\n",
       "2                    Ridge     5.38173    5.14395  (4.28579,)   (4.1297,)   \n",
       "0        Linear Regression     5.40623    5.12662  (4.29938,)  (4.14062,)   \n",
       "1                    Lasso     6.62745    6.28612  (5.21998,)  (4.98992,)   \n",
       "3    K-Neighbors Regressor     5.93630    6.74805  (4.74725,)    (5.315,)   \n",
       "7    CatBoosting Regressor     2.98539    5.60938  (2.32538,)   (4.5098,)   \n",
       "5  Random Forest Regressor     2.29988    6.11858  (1.80506,)  (4.91913,)   \n",
       "6             XGBRegressor     0.94571    6.39903  (0.62452,)  (5.18246,)   \n",
       "4            Decision Tree     0.35000    8.42852   (0.0175,)     (6.67,)   \n",
       "\n",
       "   Train R2  Test R2  RMSE Difference  \n",
       "8   0.84694  0.85244          0.18809  \n",
       "2   0.87107  0.89339          0.23778  \n",
       "0   0.86990  0.89411          0.27961  \n",
       "1   0.80448  0.84079          0.34133  \n",
       "3   0.84313  0.81654          0.81175  \n",
       "7   0.96033  0.87323          2.62399  \n",
       "5   0.97645  0.84917          3.81870  \n",
       "6   0.99602  0.83502          5.45332  \n",
       "4   0.99945  0.71378          8.07852  "
      ]
     },
     "execution_count": 13,
     "metadata": {},
     "output_type": "execute_result"
    }
   ],
   "source": [
    "import pandas as pd\n",
    "\n",
    "models = {\n",
    "    \"Linear Regression\": LinearRegression(),\n",
    "    \"Lasso\": Lasso(),\n",
    "    \"Ridge\": Ridge(),\n",
    "    \"K-Neighbors Regressor\": KNeighborsRegressor(),\n",
    "    \"Decision Tree\": DecisionTreeRegressor(),\n",
    "    \"Random Forest Regressor\": RandomForestRegressor(),\n",
    "    \"XGBRegressor\": XGBRegressor(), \n",
    "    \"CatBoosting Regressor\": CatBoostRegressor(verbose=False),\n",
    "    \"AdaBoost Regressor\": AdaBoostRegressor()\n",
    "}\n",
    "\n",
    "# Create an empty DataFrame\n",
    "results_df = pd.DataFrame(columns=[\"Model\", \"Train RMSE\", \"Test RMSE\", \"Train MAE\", \"Test MAE\", \"Train R2\", \"Test R2\"])\n",
    "\n",
    "for i in range(len(list(models))):\n",
    "    model = list(models.values())[i]\n",
    "    model.fit(X_train, y_train) # Train model\n",
    "\n",
    "    # Make predictions\n",
    "    y_train_pred = model.predict(X_train)\n",
    "    y_test_pred = model.predict(X_test)\n",
    "    \n",
    "    # Evaluate Train and Test dataset\n",
    "    model_train_mae, model_train_rmse, model_train_r2 = evaluate_model(y_train, y_train_pred)\n",
    "    model_test_mae, model_test_rmse, model_test_r2 = evaluate_model(y_test, y_test_pred)\n",
    "\n",
    "    # Append results to DataFrame\n",
    "    temp_df = pd.DataFrame({\n",
    "        \"Model\": [list(models.keys())[i]],\n",
    "        \"Train RMSE\": [model_train_rmse],\n",
    "        \"Test RMSE\": [model_test_rmse],\n",
    "        \"Train MAE\": [model_train_mae],\n",
    "        \"Test MAE\": [model_test_mae],\n",
    "        \"Train R2\": [model_train_r2],\n",
    "        \"Test R2\": [model_test_r2]\n",
    "    })\n",
    "    \n",
    "    results_df = pd.concat([results_df, temp_df], ignore_index=True)\n",
    "\n",
    "# Calculate the absolute difference between train and test RMSE\n",
    "results_df['RMSE Difference'] = abs(results_df['Train RMSE'] - results_df['Test RMSE'])\n",
    "\n",
    "# Sort the DataFrame based on the RMSE Difference\n",
    "results_df = results_df.sort_values(by='RMSE Difference', ascending=True)\n",
    "\n",
    "# Display the sorted DataFrame\n",
    "results_df \n",
    "\n"
   ]
  },
  {
   "attachments": {},
   "cell_type": "markdown",
   "metadata": {},
   "source": [
    "# Examine The Linear Regression Analysis for Explanation"
   ]
  },
  {
   "cell_type": "code",
   "execution_count": 14,
   "metadata": {},
   "outputs": [
    {
     "name": "stdout",
     "output_type": "stream",
     "text": [
      "                            OLS Regression Results                            \n",
      "==============================================================================\n",
      "Dep. Variable:             math_score   R-squared:                       0.874\n",
      "Model:                            OLS   Adj. R-squared:                  0.872\n",
      "Method:                 Least Squares   F-statistic:                     390.1\n",
      "Date:                Tue, 18 Apr 2023   Prob (F-statistic):               0.00\n",
      "Time:                        03:05:32   Log-Likelihood:                -2472.8\n",
      "No. Observations:                 800   AIC:                             4976.\n",
      "Df Residuals:                     785   BIC:                             5046.\n",
      "Df Model:                          14                                         \n",
      "Covariance Type:            nonrobust                                         \n",
      "================================================================================================================\n",
      "                                                   coef    std err          t      P>|t|      [0.025      0.975]\n",
      "----------------------------------------------------------------------------------------------------------------\n",
      "const                                          -10.9125      1.425     -7.658      0.000     -13.710      -8.115\n",
      "reading_score                                    0.2360      0.048      4.882      0.000       0.141       0.331\n",
      "writing_score                                    0.7241      0.050     14.475      0.000       0.626       0.822\n",
      "gender_male                                     13.0649      0.420     31.095      0.000      12.240      13.890\n",
      "race_ethnicity_group_B                           0.3593      0.787      0.457      0.648      -1.185       1.903\n",
      "race_ethnicity_group_C                          -0.6256      0.739     -0.847      0.397      -2.076       0.825\n",
      "race_ethnicity_group_D                          -0.6132      0.767     -0.799      0.424      -2.120       0.893\n",
      "race_ethnicity_group_E                           4.8926      0.828      5.908      0.000       3.267       6.518\n",
      "parental_level_of_education_bachelors_degree    -0.7169      0.686     -1.045      0.296      -2.063       0.629\n",
      "parental_level_of_education_high_school          0.9293      0.598      1.554      0.121      -0.245       2.103\n",
      "parental_level_of_education_masters_degree      -1.4005      0.888     -1.577      0.115      -3.144       0.343\n",
      "parental_level_of_education_some_college         0.9989      0.568      1.760      0.079      -0.116       2.113\n",
      "parental_level_of_education_some_high_school     0.7565      0.621      1.218      0.224      -0.463       1.976\n",
      "lunch_standard                                   3.5101      0.425      8.258      0.000       2.676       4.344\n",
      "test_preparation_course_none                     3.2896      0.449      7.333      0.000       2.409       4.170\n",
      "==============================================================================\n",
      "Omnibus:                        1.210   Durbin-Watson:                   1.929\n",
      "Prob(Omnibus):                  0.546   Jarque-Bera (JB):                1.295\n",
      "Skew:                          -0.077   Prob(JB):                        0.523\n",
      "Kurtosis:                       2.876   Cond. No.                         890.\n",
      "==============================================================================\n",
      "\n",
      "Notes:\n",
      "[1] Standard Errors assume that the covariance matrix of the errors is correctly specified.\n"
     ]
    }
   ],
   "source": [
    "import statsmodels.api as sm\n",
    "\n",
    "# Assuming 'df' is your original DataFrame and 'target' is the name of the target column\n",
    "X = df.drop(columns=['math_score', 'average', 'total_score'])\n",
    "y = df['math_score']\n",
    "\n",
    "# Convert categorical variables to numerical using one-hot encoding\n",
    "X = pd.get_dummies(X, drop_first=True)\n",
    "\n",
    "# Convert boolean variables to integers\n",
    "X = X.astype(int)\n",
    "\n",
    "# Split the data into training and testing sets\n",
    "X_train, X_test, y_train, y_test = train_test_split(X, y, test_size=0.2, random_state=42)\n",
    "\n",
    "# Add a constant to the independent variables (X)\n",
    "X_train_sm = sm.add_constant(X_train)\n",
    "X_test_sm = sm.add_constant(X_test)\n",
    "\n",
    "# Set the column names as columns\n",
    "X_train_sm.columns = ['const'] + list(X_train.columns)\n",
    "X_test_sm.columns = ['const'] + list(X_test.columns)\n",
    "\n",
    "# Create and fit the OLS model\n",
    "ols_model = sm.OLS(y_train, X_train_sm).fit()\n",
    "\n",
    "# Print the summary, which includes various statistics and coefficients\n",
    "print(ols_model.summary())\n",
    "\n",
    "\n",
    "\n"
   ]
  },
  {
   "cell_type": "code",
   "execution_count": 15,
   "metadata": {},
   "outputs": [
    {
     "name": "stdout",
     "output_type": "stream",
     "text": [
      "88.04% of the variation in the math score can be explained by this collection of variables.\n"
     ]
    }
   ],
   "source": [
    "lr = LinearRegression(fit_intercept=True)\n",
    "lr = lr.fit(X_train, y_train)\n",
    "y_pred = lr.predict(X_test)\n",
    "score = r2_score(y_test, y_pred) * 100\n",
    "print(f\"{score:.2f}% of the variation in the math score can be explained by this collection of variables.\")\n"
   ]
  },
  {
   "attachments": {},
   "cell_type": "markdown",
   "metadata": {},
   "source": [
    "# Diagnostic Measures\n"
   ]
  },
  {
   "attachments": {},
   "cell_type": "markdown",
   "metadata": {},
   "source": [
    "## Residuals "
   ]
  },
  {
   "attachments": {},
   "cell_type": "markdown",
   "metadata": {},
   "source": [
    "## Df_Betas "
   ]
  },
  {
   "attachments": {},
   "cell_type": "markdown",
   "metadata": {},
   "source": [
    "## Cook's Distance"
   ]
  },
  {
   "attachments": {},
   "cell_type": "markdown",
   "metadata": {},
   "source": [
    "# Hat Values "
   ]
  },
  {
   "cell_type": "code",
   "execution_count": null,
   "metadata": {},
   "outputs": [],
   "source": []
  }
 ],
 "metadata": {
  "kernelspec": {
   "display_name": "Python 3",
   "language": "python",
   "name": "python3"
  },
  "language_info": {
   "codemirror_mode": {
    "name": "ipython",
    "version": 3
   },
   "file_extension": ".py",
   "mimetype": "text/x-python",
   "name": "python",
   "nbconvert_exporter": "python",
   "pygments_lexer": "ipython3",
   "version": "3.8.16"
  },
  "orig_nbformat": 4
 },
 "nbformat": 4,
 "nbformat_minor": 2
}
